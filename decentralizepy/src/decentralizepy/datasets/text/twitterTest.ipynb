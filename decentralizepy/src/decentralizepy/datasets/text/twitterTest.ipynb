{
 "cells": [
  {
   "cell_type": "code",
   "execution_count": 1,
   "metadata": {},
   "source": [
    "from decentralizepy.datasets.text.Twitter import Twitter, BERT\n",
    "from decentralizepy.mappings.Linear import Linear"
   ],
   "outputs": []
  },
  {
   "cell_type": "code",
   "execution_count": 2,
   "metadata": {},
   "source": [
    "a = BERT()"
   ],
   "outputs": []
  },
  {
   "cell_type": "code",
   "execution_count": 3,
   "metadata": {},
   "source": [
    "a.state_dict()"
   ],
   "outputs": []
  },
  {
   "cell_type": "code",
   "execution_count": 2,
   "metadata": {},
   "source": [
    "a = BERT()\n",
    "a.state_dict()"
   ],
   "outputs": []
  },
  {
   "cell_type": "code",
   "execution_count": 2,
   "metadata": {},
   "source": [
    "trainset = Twitter(0, 0, Linear(1, 1), 90, only_local=False, train_dir=\"/nfs/risharma/sent140/per_user_data/subsampled_200\", test_batch_size=64, tokenizer=\"BERT\", at_most=None)"
   ],
   "outputs": []
  },
  {
   "cell_type": "code",
   "execution_count": 3,
   "metadata": {},
   "source": [
    "trainset.clients"
   ],
   "outputs": []
  },
  {
   "cell_type": "code",
   "execution_count": 4,
   "metadata": {},
   "source": [
    "trainset = Twitter(0, 0, Linear(1, 1), 91, only_local=False, train_dir=\"/nfs/risharma/sent140/per_user_data/subsampled_200\", test_batch_size=64, tokenizer=\"BERT\", at_most=None)\n",
    "trainset.clients"
   ],
   "outputs": []
  },
  {
   "cell_type": "code",
   "execution_count": 14,
   "metadata": {},
   "source": [
    "datasets = [Twitter(rank = i, machine_id = 0, mapping = Linear(1, 50), random_seed = 91, only_local=False, train_dir=\"/nfs/risharma/sent140/per_user_data/subsampled_200/\",tokenizer='BERT',at_most=4) for i in range(50)]"
   ],
   "outputs": []
  },
  {
   "cell_type": "code",
   "execution_count": 15,
   "metadata": {},
   "source": [
    "datasets[0].clients"
   ],
   "outputs": []
  },
  {
   "cell_type": "code",
   "execution_count": 16,
   "metadata": {},
   "source": [
    "datasets[1].clients"
   ],
   "outputs": []
  },
  {
   "cell_type": "code",
   "execution_count": 17,
   "metadata": {},
   "source": [
    "datasets[2].clients"
   ],
   "outputs": []
  },
  {
   "cell_type": "code",
   "execution_count": null,
   "metadata": {},
   "source": [],
   "outputs": []
  }
 ],
 "metadata": {
  "kernelspec": {
   "display_name": ".venv",
   "language": "python",
   "name": "python3"
  },
  "language_info": {
   "codemirror_mode": {
    "name": "ipython",
    "version": 3
   },
   "file_extension": ".py",
   "mimetype": "text/x-python",
   "name": "python",
   "nbconvert_exporter": "python",
   "pygments_lexer": "ipython3",
   "version": "3.8.10"
  }
 },
 "nbformat": 4,
 "nbformat_minor": 2
}
